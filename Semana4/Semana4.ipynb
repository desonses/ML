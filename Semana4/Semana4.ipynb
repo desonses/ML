{
 "cells": [
  {
   "cell_type": "code",
   "execution_count": 1,
   "metadata": {},
   "outputs": [],
   "source": [
    "import seaborn as sns; sns.set()\n",
    "import numpy as np\n",
    "import matplotlib.pyplot as plt\n",
    "import pandas as pd\n",
    "from scipy.optimize import fmin_bfgs\n",
    "from sklearn.metrics import accuracy_score\n",
    "import math\n",
    "import scipy.io"
   ]
  },
  {
   "cell_type": "markdown",
   "metadata": {},
   "source": [
    "# Part 1: Loading and Visualizing Data"
   ]
  },
  {
   "cell_type": "code",
   "execution_count": 2,
   "metadata": {},
   "outputs": [],
   "source": [
    "input_layer_size  = 400  # 20x20 Input Images of Digits\n",
    "num_labels = 10          # 10 labels, from 1 to 10\n",
    "                          # (note that we have mapped \"0\" to label 10)"
   ]
  },
  {
   "cell_type": "code",
   "execution_count": 3,
   "metadata": {},
   "outputs": [
    {
     "name": "stdout",
     "output_type": "stream",
     "text": [
      "(5000, 400) (5000,)\n"
     ]
    }
   ],
   "source": [
    "mat = scipy.io.loadmat('ex3data1.mat')\n",
    "\n",
    "X = mat['X']\n",
    "y = mat['y']\n",
    "y = y.flatten() \n",
    "print(X.shape, y.shape)"
   ]
  },
  {
   "cell_type": "code",
   "execution_count": 4,
   "metadata": {},
   "outputs": [],
   "source": [
    "m, n = X.shape\n",
    "rand_indices = np.random.permutation(m)\n",
    "#rand_indices.shape\n",
    "sel = X[rand_indices[:100],:]"
   ]
  },
  {
   "cell_type": "code",
   "execution_count": 5,
   "metadata": {},
   "outputs": [
    {
     "data": {
      "text/plain": [
       "array([[0., 0., 0., ..., 0., 0., 0.],\n",
       "       [0., 0., 0., ..., 0., 0., 0.],\n",
       "       [0., 0., 0., ..., 0., 0., 0.],\n",
       "       ...,\n",
       "       [0., 0., 0., ..., 0., 0., 0.],\n",
       "       [0., 0., 0., ..., 0., 0., 0.],\n",
       "       [0., 0., 0., ..., 0., 0., 0.]])"
      ]
     },
     "execution_count": 5,
     "metadata": {},
     "output_type": "execute_result"
    }
   ],
   "source": [
    "sel = X[rand_indices[0:100], :]\n",
    "sel"
   ]
  },
  {
   "cell_type": "code",
   "execution_count": 6,
   "metadata": {},
   "outputs": [
    {
     "data": {
      "text/plain": [
       "(100, 400)"
      ]
     },
     "execution_count": 6,
     "metadata": {},
     "output_type": "execute_result"
    }
   ],
   "source": [
    "sel.shape"
   ]
  },
  {
   "cell_type": "markdown",
   "metadata": {},
   "source": [
    "# Part 2a: Vectorize Logistic Regression"
   ]
  },
  {
   "cell_type": "code",
   "execution_count": 7,
   "metadata": {},
   "outputs": [
    {
     "name": "stdout",
     "output_type": "stream",
     "text": [
      "\n",
      "Testing lrCostFunction() with regularization\n"
     ]
    }
   ],
   "source": [
    "print('\\nTesting lrCostFunction() with regularization')"
   ]
  },
  {
   "cell_type": "code",
   "execution_count": 8,
   "metadata": {},
   "outputs": [],
   "source": [
    "theta_t = np.array([-2, -1, 1, 2])\n",
    "X_t = np.c_[np.ones(5), np.arange(1, 16).reshape((3,5)).T/10]\n",
    "y_t = np.array([1, 0, 1, 0, 1])\n",
    "lambda_t = 3\n"
   ]
  },
  {
   "cell_type": "code",
   "execution_count": 9,
   "metadata": {},
   "outputs": [
    {
     "data": {
      "text/plain": [
       "array([-1,  1,  2])"
      ]
     },
     "execution_count": 9,
     "metadata": {},
     "output_type": "execute_result"
    }
   ],
   "source": [
    "theta_reg = theta_t[1:]\n",
    "theta_reg"
   ]
  },
  {
   "cell_type": "code",
   "execution_count": 29,
   "metadata": {},
   "outputs": [],
   "source": [
    "\n",
    "def sigmoid(z):\n",
    "    return 1 / (1 + np.exp(-z))\n",
    "\n",
    "\n",
    "def lrCostFunction(theta, X, y, lambda_):\n",
    "    \n",
    "    m = y.shape[0]\n",
    "    u = lambda_/(2*m)\n",
    "    t = 1/m\n",
    "    h = sigmoid(np.dot(np.array(X),np.array(theta.T)))\n",
    "    theta_reg = theta[1:]\n",
    "    \n",
    "    J = t*(np.dot(-y,np.log(h)) - np.dot((1 - y).T,np.log(1 - h))) + u*np.dot(theta_reg, theta_reg)\n",
    "\n",
    "    theta_reg2 = np.r_[0 , theta_reg]\n",
    "    grad = t*((X.T * (h - y)).sum(axis=1) + lambda_*theta_reg2)\n",
    "\n",
    "    return J, grad"
   ]
  },
  {
   "cell_type": "code",
   "execution_count": 30,
   "metadata": {
    "scrolled": true
   },
   "outputs": [],
   "source": [
    "J, grad = lrCostFunction(theta_t, X_t, y_t, lambda_t)\n"
   ]
  },
  {
   "cell_type": "code",
   "execution_count": 31,
   "metadata": {},
   "outputs": [
    {
     "name": "stdout",
     "output_type": "stream",
     "text": [
      "\n",
      "Cost:  2.534819396109744\n",
      "Expected cost: 2.534819\n",
      "\n",
      "Gradients:\n",
      "\n",
      ":  [ 0.14656137 -0.54855841  0.72472227  1.39800296]\n",
      "Expected gradients:\n",
      " 0.146561\n",
      " -0.548558\n",
      " 0.724722\n",
      " 1.398003\n",
      "\n"
     ]
    }
   ],
   "source": [
    "print('\\nCost: ', J)\n",
    "print('Expected cost: 2.534819\\n')\n",
    "print('Gradients:\\n')\n",
    "print(': ', grad)\n",
    "print('Expected gradients:')\n",
    "print(' 0.146561\\n -0.548558\\n 0.724722\\n 1.398003\\n')"
   ]
  },
  {
   "cell_type": "markdown",
   "metadata": {},
   "source": [
    "# Part 2b: One-vs-All Training"
   ]
  },
  {
   "cell_type": "code",
   "execution_count": 13,
   "metadata": {},
   "outputs": [],
   "source": [
    "from scipy import optimize\n",
    "from scipy.optimize import minimize"
   ]
  },
  {
   "cell_type": "code",
   "execution_count": 14,
   "metadata": {},
   "outputs": [],
   "source": [
    "def oneVsAll(X, y, num_labels, lambda_):\n",
    "    m, n = X.shape\n",
    "    all_theta = np.zeros((num_labels, n + 1))\n",
    "    X = np.column_stack((np.ones((m,1)), X))\n",
    "    #options = optimset('GradObj', 'on', 'MaxIter', 50);\n",
    "\n",
    "    for i in range(num_labels):\n",
    "        \n",
    "        initial_theta = np.zeros((n + 1, 1))\n",
    "\n",
    "        print(\"Training {:d} out of {:d} categories...\".format(i+1, num_labels))\n",
    "\n",
    "        myargs = (X, (y%10==i).astype(int), lambda_)\n",
    "        theta = minimize(lrCostFunction, x0=initial_theta, args=myargs,\n",
    "                         options={'disp': True, 'maxiter':13},\n",
    "                         method=\"Newton-CG\", jac=True)\n",
    "\n",
    "        all_theta[i,:] = theta[\"x\"]\n",
    "    return all_theta"
   ]
  },
  {
   "cell_type": "code",
   "execution_count": 15,
   "metadata": {},
   "outputs": [
    {
     "name": "stdout",
     "output_type": "stream",
     "text": [
      "Training 1 out of 10 categories...\n",
      "Warning: Maximum number of iterations has been exceeded.\n",
      "         Current function value: 0.008568\n",
      "         Iterations: 13\n",
      "         Function evaluations: 14\n",
      "         Gradient evaluations: 302\n",
      "         Hessian evaluations: 0\n",
      "Training 2 out of 10 categories...\n",
      "Warning: Maximum number of iterations has been exceeded.\n",
      "         Current function value: 0.013401\n",
      "         Iterations: 13\n",
      "         Function evaluations: 14\n",
      "         Gradient evaluations: 198\n",
      "         Hessian evaluations: 0\n",
      "Training 3 out of 10 categories...\n",
      "Warning: Maximum number of iterations has been exceeded.\n",
      "         Current function value: 0.050802\n",
      "         Iterations: 13\n",
      "         Function evaluations: 15\n",
      "         Gradient evaluations: 375\n",
      "         Hessian evaluations: 0\n",
      "Training 4 out of 10 categories...\n",
      "Warning: Maximum number of iterations has been exceeded.\n",
      "         Current function value: 0.057712\n",
      "         Iterations: 13\n",
      "         Function evaluations: 16\n",
      "         Gradient evaluations: 370\n",
      "         Hessian evaluations: 0\n",
      "Training 5 out of 10 categories...\n",
      "Warning: Maximum number of iterations has been exceeded.\n",
      "         Current function value: 0.033282\n",
      "         Iterations: 13\n",
      "         Function evaluations: 15\n",
      "         Gradient evaluations: 259\n",
      "         Hessian evaluations: 0\n",
      "Training 6 out of 10 categories...\n",
      "Warning: Maximum number of iterations has been exceeded.\n",
      "         Current function value: 0.054826\n",
      "         Iterations: 13\n",
      "         Function evaluations: 15\n",
      "         Gradient evaluations: 309\n",
      "         Hessian evaluations: 0\n",
      "Training 7 out of 10 categories...\n",
      "Warning: Maximum number of iterations has been exceeded.\n",
      "         Current function value: 0.018258\n",
      "         Iterations: 13\n",
      "         Function evaluations: 14\n",
      "         Gradient evaluations: 300\n",
      "         Hessian evaluations: 0\n",
      "Training 8 out of 10 categories...\n",
      "Warning: Maximum number of iterations has been exceeded.\n",
      "         Current function value: 0.030704\n",
      "         Iterations: 13\n",
      "         Function evaluations: 14\n",
      "         Gradient evaluations: 314\n",
      "         Hessian evaluations: 0\n",
      "Training 9 out of 10 categories...\n",
      "Warning: Maximum number of iterations has been exceeded.\n",
      "         Current function value: 0.080939\n",
      "         Iterations: 13\n",
      "         Function evaluations: 15\n",
      "         Gradient evaluations: 299\n",
      "         Hessian evaluations: 0\n",
      "Training 10 out of 10 categories...\n",
      "Warning: Maximum number of iterations has been exceeded.\n",
      "         Current function value: 0.077920\n",
      "         Iterations: 13\n",
      "         Function evaluations: 14\n",
      "         Gradient evaluations: 174\n",
      "         Hessian evaluations: 0\n"
     ]
    }
   ],
   "source": [
    "lambda_ = 0.1\n",
    "num_labels = 10\n",
    "\n",
    "all_theta = oneVsAll(X, y, num_labels, lambda_)"
   ]
  },
  {
   "cell_type": "markdown",
   "metadata": {},
   "source": [
    "# Part 3: Predict for One-Vs-All"
   ]
  },
  {
   "cell_type": "code",
   "execution_count": 16,
   "metadata": {},
   "outputs": [],
   "source": [
    "def predictOneVsAll(all_theta, X):\n",
    "    \n",
    "    m = X.shape[0]\n",
    "    num_labels = all_theta.shape[0]\n",
    "\n",
    "    # You need to return the following variables correctly \n",
    "    p = np.zeros((m,1), dtype=int)\n",
    "\n",
    "    X = np.c_[np.ones((m,1)), X].T\n",
    "\n",
    "    p = np.argmax(sigmoid(np.dot(all_theta,X)), axis=0)\n",
    "    print(p)\n",
    "    print(p.shape)\n",
    "    return p\n",
    "    \n",
    "    "
   ]
  },
  {
   "cell_type": "code",
   "execution_count": 17,
   "metadata": {},
   "outputs": [
    {
     "name": "stdout",
     "output_type": "stream",
     "text": [
      "[0 0 0 ... 9 9 7]\n",
      "(5000,)\n"
     ]
    }
   ],
   "source": [
    "predict = predictOneVsAll(all_theta, X)"
   ]
  },
  {
   "cell_type": "code",
   "execution_count": 18,
   "metadata": {},
   "outputs": [
    {
     "data": {
      "text/plain": [
       "(5000, 1)"
      ]
     },
     "execution_count": 18,
     "metadata": {},
     "output_type": "execute_result"
    }
   ],
   "source": [
    "y = y.reshape((y.shape[0],1))\n",
    "y.shape"
   ]
  },
  {
   "cell_type": "code",
   "execution_count": 19,
   "metadata": {},
   "outputs": [],
   "source": [
    "predict = predict.reshape((y.shape[0],1))"
   ]
  },
  {
   "cell_type": "code",
   "execution_count": 20,
   "metadata": {},
   "outputs": [
    {
     "data": {
      "text/plain": [
       "0.862"
      ]
     },
     "execution_count": 20,
     "metadata": {},
     "output_type": "execute_result"
    }
   ],
   "source": [
    "accuracy_score(y, predict)"
   ]
  },
  {
   "cell_type": "markdown",
   "metadata": {},
   "source": [
    "# Machine Learning Online Class - Exercise 3 | Part 2: Neural Networks"
   ]
  },
  {
   "cell_type": "code",
   "execution_count": 21,
   "metadata": {},
   "outputs": [],
   "source": [
    "input_layer_size  = 400   #% 20x20 Input Images of Digits\n",
    "hidden_layer_size = 25    #% 25 hidden units\n",
    "num_labels = 10           #% 10 labels, from 1 to 10   \n",
    "                          #% (note that we have mapped \"0\" to label 10)"
   ]
  },
  {
   "cell_type": "markdown",
   "metadata": {},
   "source": [
    "# Part 1: Loading and Visualizing Data"
   ]
  },
  {
   "cell_type": "code",
   "execution_count": 22,
   "metadata": {},
   "outputs": [],
   "source": [
    "from math import floor, sqrt, ceil\n",
    "\n",
    "\n",
    "def DisplayData(X, example_width = None):\n",
    "    \n",
    "    plt.figure(figsize=(8,8))\n",
    "    if X.ndim == 1:\n",
    "        X = np.reshape(X, (-1,X.shape[0]))\n",
    "\n",
    "    # Set example_width automatically if not passed in\n",
    "    if not example_width or not 'example_width' in locals():\n",
    "        example_width = int(round(sqrt(X.shape[1])))\n",
    "\n",
    "    # Gray Image\n",
    "    plt.set_cmap(\"gray\")\n",
    "    \n",
    "    m, n = X.shape\n",
    "    \n",
    "    example_height = int(n / example_width)\n",
    "    #print(\"example_height \",example_height)\n",
    "    # Compute number of items to display\n",
    "    display_rows = int(ceil(sqrt(m)))\n",
    "    #print(\"display_rows \",display_rows)\n",
    "    display_cols = int(ceil(m / display_rows))\n",
    "    #print(\"display_cols \",display_cols)\n",
    "    # Between images padding\n",
    "    pad = 1\n",
    "\n",
    "    # Setup blank display\n",
    "    s = pad + display_rows * (example_height + pad)\n",
    "    t = pad + display_cols * (example_width + pad)\n",
    "    display_array = -np.ones((s,t))\n",
    "    curr_ex = 0\n",
    "    \n",
    "    for j in range(display_rows):\n",
    "        for i in range(display_cols):\n",
    "            if curr_ex > m:\n",
    "                break\n",
    "            # Copy the patch\n",
    "            # Get the max value of the patch\n",
    "            max_val = max(abs(X[curr_ex, :]))\n",
    "            \n",
    "            a = pad + j * (example_height + pad) + np.array(range(example_height+1))\n",
    "            b = pad + i * (example_width + pad) + np.array(range(example_width+1))\n",
    "            \n",
    "            display_array[a[0]:a[-1], b[0]:b[-1]] = np.reshape(X[curr_ex, :],\n",
    "                                                               (example_height, example_width),\n",
    "                                                               order=\"F\") / max_val\n",
    "            \n",
    "            \n",
    "            curr_ex += 1\n",
    "            \n",
    "    # Display Image\n",
    "    h = plt.imshow(display_array, vmin=-1, vmax=1)\n",
    "\n",
    "    # Do not show axis\n",
    "    plt.axis('off')\n",
    "    #plt.show(block=False)\n",
    "    # display_array\n",
    "    return h, display_array \n",
    "            "
   ]
  },
  {
   "cell_type": "code",
   "execution_count": 23,
   "metadata": {},
   "outputs": [
    {
     "data": {
      "text/plain": [
       "(<matplotlib.image.AxesImage at 0x1d6349ebb38>,\n",
       " array([[-1., -1., -1., ..., -1., -1., -1.],\n",
       "        [-1.,  0.,  0., ...,  0.,  0., -1.],\n",
       "        [-1.,  0.,  0., ...,  0.,  0., -1.],\n",
       "        ...,\n",
       "        [-1.,  0.,  0., ...,  0.,  0., -1.],\n",
       "        [-1.,  0.,  0., ...,  0.,  0., -1.],\n",
       "        [-1., -1., -1., ..., -1., -1., -1.]]))"
      ]
     },
     "execution_count": 23,
     "metadata": {},
     "output_type": "execute_result"
    },
    {
     "data": {
      "image/png": "[encoded data removed]",
      "text/plain": [
       "<Figure size 576x576 with 1 Axes>"
      ]
     },
     "metadata": {},
     "output_type": "display_data"
    }
   ],
   "source": [
    "mat = scipy.io.loadmat('ex3data1.mat')\n",
    "\n",
    "X = mat['X']\n",
    "y = mat['y']\n",
    "\n",
    "# Randomly select 100 data points to display\n",
    "sel = np.random.permutation(X.shape[0]) #randperm(size(X, 1))\n",
    "sel = sel[:100]\n",
    "\n",
    "DisplayData(X[sel, :])\n",
    "#print(\"X.shape: \",X.shape,\"\\ny.shape: \", y.shape)\n"
   ]
  },
  {
   "cell_type": "markdown",
   "metadata": {},
   "source": [
    "# Part 2: Loading Pameters"
   ]
  },
  {
   "cell_type": "code",
   "execution_count": 24,
   "metadata": {},
   "outputs": [
    {
     "name": "stdout",
     "output_type": "stream",
     "text": [
      "\n",
      "Loading Saved Neural Network Parameters ...\n",
      "\n"
     ]
    }
   ],
   "source": [
    "print('\\nLoading Saved Neural Network Parameters ...\\n')\n",
    "\n",
    "#% Load the weights into variables Theta1 and Theta2\n",
    "mat = scipy.io.loadmat('ex3weights.mat')\n",
    "Theta1 = mat[\"Theta1\"]\n",
    "Theta2 = mat[\"Theta2\"]\n"
   ]
  },
  {
   "cell_type": "markdown",
   "metadata": {},
   "source": [
    "# Part 3: Implement Predict"
   ]
  },
  {
   "cell_type": "code",
   "execution_count": 25,
   "metadata": {},
   "outputs": [],
   "source": [
    "def predict(Theta1, Theta2, X):\n",
    "    \n",
    "    m = X.shape[0]\n",
    "    num_labels = Theta2.shape[0]\n",
    "    p = np.zeros((m, 1))\n",
    "    a1 = np.c_[np.ones((m,1)) , X]\n",
    "    a2 = np.c_[np.ones((m,1)), sigmoid(np.dot(a1,Theta1.T))]\n",
    "    a3 = sigmoid(np.dot(a2,Theta2.T))\n",
    "\n",
    "    p = np.argmax(a3, axis=1)\n",
    "    \n",
    "    return p+1\n",
    "    "
   ]
  },
  {
   "cell_type": "code",
   "execution_count": 26,
   "metadata": {},
   "outputs": [
    {
     "name": "stdout",
     "output_type": "stream",
     "text": [
      "Training Set Accuracy: 0.975200\n"
     ]
    }
   ],
   "source": [
    "pred = predict(Theta1, Theta2, X)\n",
    "pred = pred.reshape((pred.shape[0],1))\n",
    "\n",
    "#print(pred.shape, y.shape)\n",
    "print('Training Set Accuracy: {:f}'.format(accuracy_score(pred,y)))\n"
   ]
  },
  {
   "cell_type": "code",
   "execution_count": 27,
   "metadata": {},
   "outputs": [
    {
     "data": {
      "text/plain": [
       "(5000, 1)"
      ]
     },
     "execution_count": 27,
     "metadata": {},
     "output_type": "execute_result"
    }
   ],
   "source": [
    "m = X.shape[0]\n",
    "rp = np.random.permutation(m)\n",
    "rp = rp.reshape((m,1))\n",
    "rp.shape"
   ]
  },
  {
   "cell_type": "code",
   "execution_count": 32,
   "metadata": {},
   "outputs": [
    {
     "name": "stdout",
     "output_type": "stream",
     "text": [
      "\n",
      "Displaying Example Image\n",
      "\n",
      "Neural Network Prediction: 4 (digit 4)\n",
      "Program paused. Press enter to continue.\n",
      "\n",
      "\n",
      "Displaying Example Image\n",
      "\n",
      "Neural Network Prediction: 8 (digit 8)\n",
      "Program paused. Press enter to continue.\n",
      "\n",
      "\n",
      "Displaying Example Image\n",
      "\n",
      "Neural Network Prediction: 1 (digit 1)\n",
      "Program paused. Press enter to continue.\n",
      "s\n",
      "\n",
      "Displaying Example Image\n",
      "\n",
      "Neural Network Prediction: 10 (digit 0)\n",
      "Program paused. Press enter to continue.\n",
      "q\n"
     ]
    }
   ],
   "source": [
    "for i in range(m):\n",
    "    print('\\nDisplaying Example Image\\n')\n",
    "    #DisplayData(X[rp[i], :])\n",
    "    pred = predict(Theta1, Theta2, X[rp[i], :])\n",
    "    \n",
    "    print('Neural Network Prediction: {:d} (digit {:d})'.format(pred[0], (pred%10)[0]))\n",
    "    \n",
    "    s = input('Program paused. Press enter to continue.\\n')\n",
    "    if s == \"q\":\n",
    "        break\n",
    "    "
   ]
  },
  {
   "cell_type": "code",
   "execution_count": null,
   "metadata": {},
   "outputs": [],
   "source": []
  },
  {
   "cell_type": "code",
   "execution_count": null,
   "metadata": {},
   "outputs": [],
   "source": []
  },
  {
   "cell_type": "code",
   "execution_count": null,
   "metadata": {},
   "outputs": [],
   "source": []
  },
  {
   "cell_type": "code",
   "execution_count": null,
   "metadata": {},
   "outputs": [],
   "source": []
  },
  {
   "cell_type": "code",
   "execution_count": null,
   "metadata": {},
   "outputs": [],
   "source": []
  }
 ],
 "metadata": {
  "kernelspec": {
   "display_name": "Python 3",
   "language": "python",
   "name": "python3"
  },
  "language_info": {
   "codemirror_mode": {
    "name": "ipython",
    "version": 3
   },
   "file_extension": ".py",
   "mimetype": "text/x-python",
   "name": "python",
   "nbconvert_exporter": "python",
   "pygments_lexer": "ipython3",
   "version": "3.7.0"
  }
 },
 "nbformat": 4,
 "nbformat_minor": 2
}
