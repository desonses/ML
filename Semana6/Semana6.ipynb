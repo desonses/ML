{
 "cells": [
  {
   "cell_type": "code",
   "execution_count": 4,
   "metadata": {},
   "outputs": [],
   "source": [
    "import seaborn as sns; sns.set()\n",
    "import numpy as np\n",
    "import matplotlib.pyplot as plt\n",
    "import pandas as pd\n",
    "from scipy.optimize import fmin_bfgs\n",
    "from sklearn.metrics import accuracy_score\n",
    "from scipy.optimize import minimize\n",
    "import scipy.io\n",
    "from scipy.special import expit, logit"
   ]
  },
  {
   "cell_type": "markdown",
   "metadata": {},
   "source": [
    "# Machine Learning Online Class - Exercise 5 | Regularized Linear Regression and Bias-Variance"
   ]
  },
  {
   "cell_type": "markdown",
   "metadata": {},
   "source": [
    "# Part 1: Loading and Visualizing Data"
   ]
  },
  {
   "cell_type": "code",
   "execution_count": 5,
   "metadata": {},
   "outputs": [
    {
     "name": "stdout",
     "output_type": "stream",
     "text": [
      "Loading and Visualizing Data ...\n",
      "\n",
      "X.shape:  (12, 1) \n",
      "y.shape:  (12, 1) \n",
      "\n",
      "X_test.shape:  (21, 1) \n",
      "y_test.shape:  (21, 1) \n",
      "\n",
      "X_val.shape:  (21, 1) \n",
      "y_val.shape:  (21, 1)\n"
     ]
    }
   ],
   "source": [
    "print('Loading and Visualizing Data ...\\n')\n",
    "\n",
    "#% Load from ex5data1: \n",
    "#% You will have X, y, Xval, yval, Xtest, ytest in your environment\n",
    "mat = scipy.io.loadmat('ex5data1.mat')\n",
    "\n",
    "X = mat['X']\n",
    "y = mat['y']\n",
    "\n",
    "X_test = mat['Xtest']\n",
    "y_test = mat['ytest']\n",
    "\n",
    "X_val = mat['Xval']\n",
    "y_val = mat['yval']\n",
    "\n",
    "print(\"X.shape: \", X.shape, \"\\ny.shape: \", y.shape,\"\\n\")\n",
    "print(\"X_test.shape: \", X_test.shape, \"\\ny_test.shape: \", y_test.shape, \"\\n\")\n",
    "print(\"X_val.shape: \", X_val.shape, \"\\ny_val.shape: \", y_val.shape)\n",
    "#% m = Number of examples\n",
    "m = X.shape[0]"
   ]
  },
  {
   "cell_type": "code",
   "execution_count": 6,
   "metadata": {},
   "outputs": [
    {
     "data": {
      "image/png": "[encoded data removed]",
      "text/plain": [
       "<Figure size 576x576 with 1 Axes>"
      ]
     },
     "metadata": {},
     "output_type": "display_data"
    }
   ],
   "source": [
    "plt.figure(figsize=(8,8))\n",
    "plt.plot(X, y, 'rx', markersize=10, linewidth=1.5)\n",
    "plt.xlabel('Change in water level (x)')\n",
    "plt.ylabel('Water flowing out of the dam (y)')\n",
    "plt.show() "
   ]
  },
  {
   "cell_type": "markdown",
   "metadata": {},
   "source": [
    "# Part 2: Regularized Linear Regression Cost"
   ]
  },
  {
   "cell_type": "code",
   "execution_count": 7,
   "metadata": {},
   "outputs": [],
   "source": [
    "def linearRegCostFunction(X, y, theta, lambda_):\n",
    "    #% Initialize some useful values\n",
    "    m = len(y) #% number of training examples\n",
    "\n",
    "    #% You need to return the following variables correctly \n",
    "    \n",
    "    #grad = np.zeros(len(theta))\n",
    "    \n",
    "    h = np.dot(X, theta)\n",
    "    h = h.reshape((h.shape[0], 1))\n",
    "    u = lambda_/(2*m)\n",
    "    t = 1/(2*m)\n",
    "    theta[0] = 0\n",
    "\n",
    "    J = t*np.sum(np.square(h - y)) + u*np.dot(theta.T,theta)\n",
    "    \n",
    "    c = lambda_*theta\n",
    "    c = c.reshape((2,1))\n",
    "    grad = (np.dot(X.T,(h - y)) + c)*(1/m)\n",
    "    \n",
    "    return J, grad.flatten()\n",
    "    \n",
    "    \n",
    "    "
   ]
  },
  {
   "cell_type": "code",
   "execution_count": 8,
   "metadata": {},
   "outputs": [
    {
     "name": "stdout",
     "output_type": "stream",
     "text": [
      "Cost at theta = [1 ; 1]: 303.9931922202643\n",
      "(this value should be about 303.993192)\n",
      "\n",
      "Program paused. Press enter to continue.\n",
      "\n"
     ]
    }
   ],
   "source": [
    "theta = np.array([1 , 1])\n",
    "lambda_ = 1\n",
    "X_= np.c_[np.ones((m, 1)), X]\n",
    "J, grad = linearRegCostFunction(X_, y, theta, lambda_)\n",
    "\n",
    "print('Cost at theta = [1 ; 1]: {}\\n(this value should be about 303.993192)\\n'.format(J))\n",
    "\n",
    "print('Program paused. Press enter to continue.\\n')"
   ]
  },
  {
   "cell_type": "markdown",
   "metadata": {},
   "source": [
    "# Part 3: Regularized Linear Regression Gradient"
   ]
  },
  {
   "cell_type": "code",
   "execution_count": 9,
   "metadata": {},
   "outputs": [
    {
     "name": "stdout",
     "output_type": "stream",
     "text": [
      "Gradient at theta = [1 ; 1]:  [-15.303015674201186; 598.2507441727034]\n",
      "(this value should be about [-15.303016; 598.250744])\n",
      "\n"
     ]
    }
   ],
   "source": [
    "theta = np.array([1 , 1])\n",
    "J, grad = linearRegCostFunction(X_, y, theta, 1)\n",
    "\n",
    "print('Gradient at theta = [1 ; 1]:  [{}; {}]\\n(this value should be about [-15.303016; 598.250744])\\n'.format(grad[0], grad[1]))"
   ]
  },
  {
   "cell_type": "markdown",
   "metadata": {},
   "source": [
    "# Part 4: Train Linear Regression"
   ]
  },
  {
   "cell_type": "code",
   "execution_count": 10,
   "metadata": {},
   "outputs": [],
   "source": [
    "import scipy.optimize as opt\n",
    "\n",
    "def trainLinearReg(X, y, lambda_):\n",
    "    \n",
    "\n",
    "    method='L-BFGS-B'\n",
    "    maxiter=200\n",
    "    # Initialize Theta\n",
    "    #initial_theta = np.zeros(X.shape[1])\n",
    "    initial_theta = np.zeros((X.shape[1], 1))\n",
    "    \n",
    "    costFunction = lambda t: linearRegCostFunction(X, y, t, lambda_)\n",
    "\n",
    "    result = minimize(costFunction, initial_theta,\n",
    "                      method=method, jac=True,\n",
    "                      options={'disp': True,\n",
    "                               'maxiter': maxiter})\n",
    "\n",
    "    \n",
    "    return result.x\n",
    "\n",
    "##############################################\n",
    "##############################################\n",
    "def linearRegCostFunction2(X, y, theta, lambda_val, return_grad=False):\n",
    "    #LINEARREGCOSTFUNCTION Compute cost and gradient for regularized linear \n",
    "    #regression with multiple variables\n",
    "    #   [J, grad] = LINEARREGCOSTFUNCTION(X, y, theta, lambda_val) computes the \n",
    "    #   cost of using theta as the parameter for linear regression to fit the \n",
    "    #   data points in X and y. Returns the cost in J and the gradient in grad\n",
    "\n",
    "    # Initialize some useful values\n",
    "    m = len(y) # number of training examples\n",
    "\n",
    "    # force to be 2D vector\n",
    "    theta = np.reshape(theta, (-1,y.shape[1]))\n",
    "\n",
    "    # You need to return the following variables correctly \n",
    "    J = 0\n",
    "    grad = np.zeros(theta.shape)\n",
    "\n",
    "    # ====================== YOUR CODE HERE ======================\n",
    "    # Instructions: Compute the cost and gradient of regularized linear \n",
    "    #               regression for a particular choice of theta.\n",
    "    #\n",
    "    #               You should set J to the cost and grad to the gradient.\n",
    "    #\n",
    "\n",
    "    # cost function\n",
    "    J = ( 1./(2*m)) * np.power( (np.dot(X, theta) - y) , 2).sum() + ( float(lambda_val) / (2*m)) * np.power(theta[1:theta.shape[0]],2).sum()\n",
    "\n",
    "    # regularized gradient\n",
    "    grad = (1./m) * np.dot( X.T, np.dot(X,theta) - y) + ( float(lambda_val) / m )*theta\n",
    "\n",
    "    # unregularize first gradient\n",
    "    grad_no_regularization = (1./m) * np.dot( X.T, np.dot(X,theta) - y)\n",
    "    grad[0] = grad_no_regularization[0]\n",
    "\n",
    "    if return_grad == True:\n",
    "        return J[0], grad.flatten()\n",
    "    elif return_grad == False:\n",
    "        return J[0] \n",
    "\n",
    "    \n",
    "def trainLinearReg2(X, y, lambda_val):\n",
    "    #TRAINLINEARREG Trains linear regression given a dataset (X, y) and a\n",
    "    #regularization parameter lambda_val\n",
    "    #   [theta] = TRAINLINEARREG (X, y, lambda_val) trains linear regression using\n",
    "    #   the dataset (X, y) and regularization parameter lambda_val. Returns the\n",
    "    #   trained parameters theta.\n",
    "    #\n",
    "\n",
    "    # Initialize Theta\n",
    "    initial_theta = np.zeros((X.shape[1], 1))\n",
    "\n",
    "    # Short hand for cost function to be minimized\n",
    "    costFunc = lambda theta: linearRegCostFunction2(X, y, theta, lambda_val, True)\n",
    "    # Now, costFunction is a function that takes in only one argument\n",
    "    maxiter = 200\n",
    "    results = minimize(costFunc, x0=initial_theta,\n",
    "                       options={'disp': True, 'maxiter':maxiter},\n",
    "                       method=\"L-BFGS-B\",\n",
    "                       jac=True)\n",
    "\n",
    "    theta = results[\"x\"]\n",
    "\n",
    "    return theta\n"
   ]
  },
  {
   "cell_type": "code",
   "execution_count": 11,
   "metadata": {},
   "outputs": [
    {
     "name": "stdout",
     "output_type": "stream",
     "text": [
      "[0.         0.25391636]\n"
     ]
    },
    {
     "data": {
      "text/plain": [
       "Text(0, 0.5, 'Water flowing out of the dam (y)')"
      ]
     },
     "execution_count": 11,
     "metadata": {},
     "output_type": "execute_result"
    },
    {
     "data": {
      "image/png": "[encoded data removed]",
      "text/plain": [
       "<Figure size 576x576 with 1 Axes>"
      ]
     },
     "metadata": {},
     "output_type": "display_data"
    }
   ],
   "source": [
    "#%  Train linear regression with lambda = 0\n",
    "\n",
    "###theta = np.array([13.08790, 0.36778])\n",
    "lambda_ = 0\n",
    "theta = trainLinearReg(np.c_[np.ones((m, 1)), X], y, lambda_)\n",
    "print(theta)\n",
    "\n",
    "#%  Plot fit over the data\n",
    "plt.figure(figsize=(8,8))\n",
    "plt.plot(X, y, 'rx', MarkerSize =10, LineWidth=1.5)\n",
    "plt.xlabel('Change in water level (x)')\n",
    "plt.ylabel('Water flowing out of the dam (y)')\n"
   ]
  },
  {
   "cell_type": "markdown",
   "metadata": {},
   "source": [
    "# Part 5: Learning Curve for Linear Regression"
   ]
  },
  {
   "cell_type": "code",
   "execution_count": 9,
   "metadata": {},
   "outputs": [],
   "source": [
    "def learningCurve(X, y, Xval, yval, lambda_):\n",
    "    \n",
    "    m = len(X)\n",
    "\n",
    "    # You need to return these values correctly\n",
    "    error_train = np.zeros((m, 1))\n",
    "    error_val   = np.zeros((m, 1))\n",
    "    \n",
    "    for i in range(1, m+1):\n",
    "     #Compute train/cross validation errors using training examples \n",
    "      #X(1:i, :) and y(1:i), storing the result in \n",
    "      #error_train(i) \n",
    "      # error_val(i)\n",
    "        X_train = X[:i]\n",
    "        y_train = y[:i]\n",
    "        \n",
    "        theta = trainLinearReg2(X_train, y_train, lambda_)\n",
    "        \n",
    "        \n",
    "        error_train[i-1] = linearRegCostFunction2(X_train, y_train, theta, 0)\n",
    "        error_val[i-1] = linearRegCostFunction2(Xval, yval, theta, 0)\n",
    "    \n",
    "    \n",
    "    return error_train, error_val\n",
    "    \n",
    "    "
   ]
  },
  {
   "cell_type": "code",
   "execution_count": 10,
   "metadata": {},
   "outputs": [],
   "source": [
    "lambda_ = 0\n",
    "Xx = np.c_[np.ones((m,1)), X]\n",
    "Xv = np.c_[np.ones((X_val.shape[0],1)), X_val]\n",
    "\n",
    "error_train, error_val = learningCurve(Xx, y, Xv, y_val, lambda_)\n"
   ]
  },
  {
   "cell_type": "code",
   "execution_count": 11,
   "metadata": {},
   "outputs": [
    {
     "data": {
      "image/png": "[encoded data removed]",
      "text/plain": [
       "<Figure size 576x576 with 1 Axes>"
      ]
     },
     "metadata": {},
     "output_type": "display_data"
    }
   ],
   "source": [
    "plt.figure(figsize=(8,8))\n",
    "plt.title('Learning curve for linear regression')\n",
    "#plt.legend((p1, p2), ('Train', 'Cross Validation'), numpoints=1, handlelength=0.5)\n",
    "plt.plot([i for i in range(m)], error_train, [i for i in range(m)], error_val)\n",
    "plt.xlabel('Number of training examples')\n",
    "plt.ylabel('Error')\n",
    "plt.show(block=False)"
   ]
  },
  {
   "cell_type": "code",
   "execution_count": 12,
   "metadata": {},
   "outputs": [
    {
     "name": "stdout",
     "output_type": "stream",
     "text": [
      "# Training Examples\tTrain Error\tCross Validation Error\n",
      "\n",
      "0\t|\t[9.86076132e-32]\t|\t[205.12109575]\n",
      "1\t|\t[1.42981039e-30]\t|\t[110.30036611]\n",
      "2\t|\t[3.28659505]\t|\t[45.01023138]\n",
      "3\t|\t[2.84267769]\t|\t[48.36891145]\n",
      "4\t|\t[13.15404881]\t|\t[35.86516475]\n",
      "5\t|\t[19.44396251]\t|\t[33.8299616]\n",
      "6\t|\t[20.09852166]\t|\t[31.9709858]\n",
      "7\t|\t[18.1728587]\t|\t[30.86244632]\n",
      "8\t|\t[22.60940542]\t|\t[31.13599796]\n",
      "9\t|\t[23.26146159]\t|\t[28.93620747]\n",
      "10\t|\t[24.31724959]\t|\t[29.55143162]\n",
      "11\t|\t[22.3739065]\t|\t[29.43381813]\n"
     ]
    }
   ],
   "source": [
    "print('# Training Examples\\tTrain Error\\tCross Validation Error\\n')\n",
    "for i in range(m):\n",
    "    print('{}\\t|\\t{}\\t|\\t{}'.format(i, error_train[i], error_val[i]))"
   ]
  },
  {
   "cell_type": "markdown",
   "metadata": {},
   "source": [
    "# Part 6: Feature Mapping for Polynomial Regression"
   ]
  },
  {
   "cell_type": "code",
   "execution_count": 13,
   "metadata": {},
   "outputs": [],
   "source": [
    "from sklearn.preprocessing import StandardScaler\n",
    "\n",
    "\n",
    "def polyFeatures(X, p):\n",
    "    \n",
    "    X_poly = np.zeros((len(X), p))\n",
    "    X_poly[:,0] = X.flatten(\"F\")\n",
    "    \n",
    "    for i in range(1, p):\n",
    "        X_poly[:,i] = (X*X_poly)[:,i-1]\n",
    "    \n",
    "    return X_poly\n",
    "    \n",
    "def featureNormalize(X):\n",
    "    \n",
    "    scaler = StandardScaler()\n",
    "    scaler = scaler.fit(X)\n",
    "    \n",
    "    mu = scaler.mean_               \n",
    "    sigma = np.sqrt(scaler.var_)\n",
    "    X_norm = scaler.transform(X)\n",
    "    \n",
    "    return X_norm, mu, sigma\n",
    "    "
   ]
  },
  {
   "cell_type": "code",
   "execution_count": 14,
   "metadata": {},
   "outputs": [],
   "source": [
    "def bsxfun(X_poly_test, y, method = None):\n",
    "    #mu = mu.reshape(1, mu.shape[0])\n",
    "    \n",
    "    if method == \"minus\":\n",
    "        return X_poly_test-y\n",
    "    elif method == \"rdivide\":\n",
    "        j = []\n",
    "        for index, item in enumerate(X_poly_test):\n",
    "            j.append((item/y))\n",
    "            \n",
    "            #j.append((item/sigma)[0])\n",
    "\n",
    "        return j\n",
    "        \n",
    "    else:\n",
    "        return\n",
    "    \n",
    "    "
   ]
  },
  {
   "cell_type": "code",
   "execution_count": 15,
   "metadata": {},
   "outputs": [],
   "source": [
    "p = 8\n",
    "\n",
    "# Map X onto Polynomial Features and Normalize\n",
    "X_poly = polyFeatures(X, p)\n",
    "X_poly, mu, sigma = featureNormalize(X_poly)  # Normalize\n",
    "X_poly = np.c_[np.ones((m, 1)), X_poly]                   # Add Ones\n",
    "\n",
    "\n",
    "# Map X_poly_test and normalize (using mu and sigma)\n",
    "X_poly_test = polyFeatures(X_test, p)\n",
    "X_poly_test = bsxfun(X_poly_test, mu, method=\"minus\")\n",
    "X_poly_test = np.array(bsxfun(X_poly_test, sigma, method=\"rdivide\"))\n",
    "X_poly_test = np.c_[np.ones((X_poly_test.shape[0], 1)), X_poly_test]         # Add Ones\n",
    "\n",
    "# Map X_poly_val and normalize (using mu and sigma)\n",
    "X_poly_val = polyFeatures(X_val, p)\n",
    "X_poly_val = bsxfun(X_poly_val, mu, method=\"minus\")\n",
    "X_poly_val = np.array(bsxfun(X_poly_val, sigma, method=\"rdivide\"))\n",
    "#print(X_poly_val.shape)\n",
    "X_poly_val = np.c_[np.ones((X_poly_val.shape[0], 1)), X_poly_val]    # Add Ones\n",
    "\n"
   ]
  },
  {
   "cell_type": "markdown",
   "metadata": {},
   "source": [
    "Hay un error en la presicion de sigma(por python) lo que afecta el resultado, en X_poly[0, :]"
   ]
  },
  {
   "cell_type": "code",
   "execution_count": 16,
   "metadata": {},
   "outputs": [
    {
     "name": "stdout",
     "output_type": "stream",
     "text": [
      "Normalized Training Example 1:\n",
      "\n",
      "  [ 1.         -0.3782437  -0.78866232  0.19032872 -0.7375913   0.32025197\n",
      " -0.6171516   0.35983501 -0.53109126]  \n",
      "\n",
      "\n",
      "Program paused. Press enter to continue.\n",
      "\n"
     ]
    }
   ],
   "source": [
    "print('Normalized Training Example 1:\\n')\n",
    "print('  {}  \\n'.format(X_poly[0, :]))\n",
    "print('\\nProgram paused. Press enter to continue.\\n')\n",
    "\n"
   ]
  },
  {
   "cell_type": "markdown",
   "metadata": {},
   "source": [
    "# Part 7: Learning Curve for Polynomial Regression"
   ]
  },
  {
   "cell_type": "code",
   "execution_count": 17,
   "metadata": {},
   "outputs": [],
   "source": [
    "def polyFeatures2(X, p):\n",
    "\n",
    "    X_poly = np.zeros((len(X), p))\n",
    "\n",
    "    for i in range(p):\n",
    "        X_poly[:, i] = np.power(X, i + 1).ravel()\n",
    "\n",
    "    return X_poly\n",
    "\n",
    "def plotFit(min_x, max_x, mu, sigma, theta, p):\n",
    "    \n",
    "    #plt.figure(figsize=(8,8))\n",
    "    x = np.arange(min_x - 15, max_x + 25, 0.05)\n",
    "    # Map the X values \n",
    "    X_poly = polyFeatures2(x, p)\n",
    "    X_poly = bsxfun(X_poly, mu, method = \"minus\")\n",
    "    X_poly = np.array(bsxfun(X_poly, sigma, method = \"rdivide\"))\n",
    "    \n",
    "    X_poly, dummy_mu, dummy_sigma = featureNormalize(X_poly)\n",
    "    # Add ones\n",
    "    X_poly = np.c_[np.ones((x.shape[0], 1)), X_poly]\n",
    "    \n",
    "    # Plot\n",
    "    plt.ylim(-100, 200)\n",
    "    plt.xlim(-100,100)\n",
    "    plt.plot(x, X_poly.dot(theta), linestyle='--', marker='', color='b')\n",
    "    "
   ]
  },
  {
   "cell_type": "code",
   "execution_count": 18,
   "metadata": {},
   "outputs": [
    {
     "data": {
      "image/png": "[encoded data removed]",
      "text/plain": [
       "<Figure size 576x576 with 1 Axes>"
      ]
     },
     "metadata": {},
     "output_type": "display_data"
    }
   ],
   "source": [
    "\n",
    "lamb = 0\n",
    "theta = trainLinearReg2(X_poly, y, lamb)\n",
    "\n",
    "# Plot training data and fit\n",
    "plt.figure(figsize=(8,8))\n",
    "plt.plot(X, y, 'rx', markersize=10, linewidth=1.5)\n",
    "plotFit(min(X), max(X), mu, sigma, theta, p)\n",
    "plt.xlabel('Change in water level (x)')\n",
    "plt.ylabel('Water flowing out of the dam (y)')\n",
    "plt.title('Learning curve for linear regression'.format(lamb))\n",
    "plt.show()\n",
    "\n",
    "\n",
    "\n"
   ]
  },
  {
   "cell_type": "code",
   "execution_count": 19,
   "metadata": {},
   "outputs": [
    {
     "data": {
      "image/png": "[encoded data removed]",
      "text/plain": [
       "<Figure size 576x576 with 1 Axes>"
      ]
     },
     "metadata": {},
     "output_type": "display_data"
    },
    {
     "name": "stdout",
     "output_type": "stream",
     "text": [
      "Polynomial Regression (lambda = 0)\n",
      "\n",
      "\n",
      "# Training Examples\tTrain Error\tCross Validation Error\n",
      "\n",
      " \t0\t\t[9.86076132e-32]\t[161.44216832]\n",
      "\n",
      " \t1\t\t[1.99369008e-11]\t[160.7923057]\n",
      "\n",
      " \t2\t\t[2.82649678e-11]\t[67.08533418]\n",
      "\n",
      " \t3\t\t[3.55928001e-12]\t[67.72685583]\n",
      "\n",
      " \t4\t\t[9.09921563e-11]\t[6.61700053]\n",
      "\n",
      " \t5\t\t[6.11101485e-09]\t[10.64194768]\n",
      "\n",
      " \t6\t\t[3.41054063e-10]\t[27.99014045]\n",
      "\n",
      " \t7\t\t[2.45403969e-09]\t[22.70463252]\n",
      "\n",
      " \t8\t\t[0.00025842]\t[32.49852007]\n",
      "\n",
      " \t9\t\t[0.01081939]\t[96.36940763]\n",
      "\n",
      " \t10\t\t[0.03121892]\t[50.92140153]\n",
      "\n",
      " \t11\t\t[0.02889024]\t[53.86686587]\n",
      "\n",
      "Program paused. Press enter to continue.\n",
      "\n"
     ]
    }
   ],
   "source": [
    "\n",
    "plt.figure(figsize=(8,8))\n",
    "error_train, error_val = learningCurve(X_poly, y, X_poly_val, y_val, lamb)\n",
    "plt.plot(range(1, m+1), error_train, range(1, m+1), error_val)\n",
    "\n",
    "plt.title('Polynomial Regression Learning Curve (lambda = {})'.format(lamb))\n",
    "plt.xlabel('Number of training examples')\n",
    "plt.ylabel('Error')\n",
    "plt.xlim(0,12)\n",
    "plt.ylim(0, 100)\n",
    "plt.show()\n",
    "\n",
    "print('Polynomial Regression (lambda = {})\\n\\n'.format(lamb))\n",
    "print('# Training Examples\\tTrain Error\\tCross Validation Error\\n')\n",
    "for i in range(m):\n",
    "    print(' \\t{}\\t\\t{}\\t{}\\n'.format(i, error_train[i], error_val[i]))\n",
    "#########end\n",
    "\n",
    "print('Program paused. Press enter to continue.\\n')"
   ]
  },
  {
   "cell_type": "code",
   "execution_count": null,
   "metadata": {},
   "outputs": [],
   "source": []
  },
  {
   "cell_type": "markdown",
   "metadata": {},
   "source": [
    "# Part 8: Validation for Selecting Lambda"
   ]
  },
  {
   "cell_type": "code",
   "execution_count": 44,
   "metadata": {},
   "outputs": [],
   "source": [
    "def validationCurve(X, y, Xval, yval):\n",
    "    lambda_vec = np.array([0, 0.001, 0.003, 0.01, 0.03, 0.1, 0.3, 1, 3, 10])\n",
    "    \n",
    "    # You need to return these variables correctly.\n",
    "    error_train = np.zeros((len(lambda_vec), 1))\n",
    "    error_val = np.zeros((len(lambda_vec), 1))\n",
    "    \n",
    "    for i in range(len(lambda_vec)):\n",
    "        lamb = lambda_vec[i]\n",
    "        theta = trainLinearReg2(X,y,lamb)\n",
    "        error_train[i] = linearRegCostFunction2(X   , y   , theta, 0, False)\n",
    "        error_val[i] = linearRegCostFunction2(Xval, yval, theta, 0, False)\n",
    "\n",
    "    return lambda_vec, error_train, error_val\n",
    "    \n",
    "    "
   ]
  },
  {
   "cell_type": "code",
   "execution_count": 46,
   "metadata": {},
   "outputs": [
    {
     "data": {
      "image/png": "[encoded data removed]",
      "text/plain": [
       "<Figure size 576x576 with 1 Axes>"
      ]
     },
     "metadata": {},
     "output_type": "display_data"
    }
   ],
   "source": [
    "lambda_vec, error_train, error_val = validationCurve(X_poly, y, X_poly_val, y_val)\n",
    "\n",
    "plt.figure(figsize=(8,8))\n",
    "plt.plot(lambda_vec, error_train, lambda_vec, error_val)\n",
    "plt.xlabel('lambda')\n",
    "plt.ylabel('Error')\n",
    "plt.show()\n"
   ]
  },
  {
   "cell_type": "code",
   "execution_count": 47,
   "metadata": {},
   "outputs": [
    {
     "name": "stdout",
     "output_type": "stream",
     "text": [
      "lambda\t\tTrain Error\tValidation Error\n",
      "\n",
      " 0.0\t[0.02889024]\t[53.86686587]\n",
      "\n",
      " 0.001\t[0.10797679]\t[9.3501911]\n",
      "\n",
      " 0.003\t[0.166725]\t[15.92259232]\n",
      "\n",
      " 0.01\t[0.21795797]\t[17.14931465]\n",
      "\n",
      " 0.03\t[0.27514865]\t[13.21618293]\n",
      "\n",
      " 0.1\t[0.4386562]\t[7.92682617]\n",
      "\n",
      " 0.3\t[0.86820925]\t[4.76073244]\n",
      "\n",
      " 1.0\t[1.95869712]\t[4.26345252]\n",
      "\n",
      " 3.0\t[4.52510055]\t[3.83218395]\n",
      "\n",
      " 10.0\t[14.82577991]\t[8.88969678]\n",
      "\n"
     ]
    }
   ],
   "source": [
    "\n",
    "print('lambda\\t\\tTrain Error\\tValidation Error\\n')\n",
    "for i in range(len(lambda_vec)):\n",
    "    print(' {}\\t{}\\t{}\\n'.format(lambda_vec[i], error_train[i], error_val[i]))\n",
    "\n",
    "print('Program paused. Press enter to continue.\\n')"
   ]
  },
  {
   "cell_type": "code",
   "execution_count": null,
   "metadata": {},
   "outputs": [],
   "source": []
  }
 ],
 "metadata": {
  "kernelspec": {
   "display_name": "Python 3",
   "language": "python",
   "name": "python3"
  },
  "language_info": {
   "codemirror_mode": {
    "name": "ipython",
    "version": 3
   },
   "file_extension": ".py",
   "mimetype": "text/x-python",
   "name": "python",
   "nbconvert_exporter": "python",
   "pygments_lexer": "ipython3",
   "version": "3.7.0"
  }
 },
 "nbformat": 4,
 "nbformat_minor": 2
}
