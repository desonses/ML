{
 "cells": [
  {
   "cell_type": "markdown",
   "metadata": {},
   "source": [
    "# Logistic Regression - ex2data1"
   ]
  },
  {
   "cell_type": "code",
   "execution_count": 1,
   "metadata": {},
   "outputs": [],
   "source": [
    "import seaborn as sns; sns.set()\n",
    "import numpy as np\n",
    "import matplotlib.pyplot as plt\n",
    "import pandas as pd\n",
    "from scipy.optimize import fmin_bfgs\n",
    "from sklearn.metrics import accuracy_score\n",
    "import scipy.optimize as op\n",
    "import math"
   ]
  },
  {
   "cell_type": "code",
   "execution_count": 2,
   "metadata": {},
   "outputs": [],
   "source": [
    "data = pd.read_csv('ex2data1.txt', sep=',',\n",
    "                   skiprows=0, header=None).values\n",
    "\n",
    "\"\"\"\n",
    "data = np.loadtxt('ex2data2.txt', delimiter=\",\")\n",
    "X = data[:,:2]\n",
    "y = data[:,2]\n",
    "\"\"\"\n",
    "\n",
    "X = data[:,[0, 1]]\n",
    "y = data[:,[2]]\n",
    "m,n = X.shape\n",
    "\n",
    "\n"
   ]
  },
  {
   "cell_type": "code",
   "execution_count": 3,
   "metadata": {},
   "outputs": [],
   "source": [
    "\"\"\"def ploteo(X,y):\n",
    "    \n",
    "    fig, ax = plt.subplots(figsize=(8, 8))\n",
    "    m,n = X.shape\n",
    "    for i in range(m):\n",
    "        x_, y_ = X[i][0], X[i][1]\n",
    "        if y[i] == 1:\n",
    "            c = 'tab:orange'\n",
    "            marker = \"*\"\n",
    "            #label = \"y = 1\"\n",
    "        else:\n",
    "            c = 'tab:blue'\n",
    "            marker = '.'\n",
    "            #label = \"y = 0\"\n",
    "        plt.scatter(x_, y_, c=c, marker=marker)\n",
    "    return plt.show()\"\"\"\n",
    "\n",
    "def Ploteo(X, y):   \n",
    "    pos = (y == 1).nonzero()[:1]\n",
    "    neg = (y == 0).nonzero()[:1]\n",
    "\n",
    "    plt.plot(X[pos, 0].T, X[pos, 1].T, '*', c=\"tab:orange\", markersize=7)\n",
    "    plt.plot(X[neg, 0].T, X[neg, 1].T, '.', c=\"tab:blue\", markersize=7)\n",
    "\n",
    "def plotDecisionBoundary(theta, X, y):\n",
    "    \n",
    "    \n",
    "    \n",
    "    plt.figure(figsize=(8,8))\n",
    "    Ploteo(X[:,1:3], y)\n",
    "\n",
    "    if X.shape[1] <= 3:\n",
    "        plot_x = np.array([min(X[:,1]) - 2 , max(X[:,1]) + 2])\n",
    "        plot_y = -1.0/theta[2]*(theta[1]*plot_x + theta[0])\n",
    "        plt.plot(plot_x, plot_y)\n",
    "        \n",
    "    else:\n",
    "        u = np.linspace(-1, 1.5, 50)\n",
    "        v = np.linspace(-1, 1.5, 50)\n",
    "        \n",
    "        z = np.zeros((len(u), len(v)))\n",
    "        \n",
    "        for i in range(len(u)):\n",
    "            for j in range(len(v)):\n",
    "                z[i,j] = np.dot(mapFeature(u[i:i+1], v[j:j+1]),theta)\n",
    "                \n",
    "        z = z.T\n",
    "        p3 = plt.contour(u, v, z, levels=[0], linewidth=2,marker=\".\" )\n",
    "        \n",
    "        # Labels and Legend\n",
    "        plt.xlabel('Microchip Test 1')\n",
    "        plt.ylabel('Microchip Test 2')\n",
    "\n",
    "        plt.legend(['y = 1', 'y = 0', 'Decision boundary'])\n",
    "        plt.show()"
   ]
  },
  {
   "cell_type": "markdown",
   "metadata": {},
   "source": [
    "# Part 1: Plotting "
   ]
  },
  {
   "cell_type": "code",
   "execution_count": 4,
   "metadata": {},
   "outputs": [
    {
     "data": {
      "image/png": "[encoded data removed]",
      "text/plain": [
       "<Figure size 576x576 with 1 Axes>"
      ]
     },
     "metadata": {},
     "output_type": "display_data"
    }
   ],
   "source": [
    "plt.figure(figsize=(8,8))\n",
    "Ploteo(X,y)\n",
    "plt.show()"
   ]
  },
  {
   "cell_type": "markdown",
   "metadata": {},
   "source": [
    "# Part 2: Compute Cost and Gradient\n"
   ]
  },
  {
   "cell_type": "code",
   "execution_count": 5,
   "metadata": {},
   "outputs": [],
   "source": [
    "\"\"\"\n",
    "funcion sigmoide\n",
    "\"\"\"\n",
    "def sigmoid(z):\n",
    "    y = (1/(1 + (math.exp(-z))))\n",
    "    return y\n",
    "\n",
    "\"\"\"\n",
    "sumatoria pra calcular el valor de J\n",
    "\"\"\"\n",
    "def suma(X, y, theta):\n",
    "    s = 0\n",
    "    m = len(y)\n",
    "    \n",
    "    for i in range(m):\n",
    "        z = np.sum(X[i,0:3]*theta)\n",
    "        s = s + (-y[i]*math.log(sigmoid(z)) - (1 - y[i])*math.log(1 - sigmoid(z)))\n",
    "    return s\n",
    "\n",
    "\"\"\"\n",
    "calculo del costo y gradiente\n",
    "\"\"\"\n",
    "def costFunction(theta, X, y):\n",
    "    m, n = y.shape\n",
    "    t = 1/m\n",
    "    grad = np.zeros(len(theta))\n",
    "    T = np.zeros(m)\n",
    "    J = t*suma(X, y, theta)\n",
    "    \n",
    "    for i in range(m):\n",
    "        T[i] = sigmoid(np.sum(theta*X[i]))\n",
    "    V = np.vstack(T) - y\n",
    "    grad = t*((X*V).sum(axis=0))\n",
    "    \n",
    "    return J, grad\n",
    "\n",
    "    \n",
    "#costFunction(initial_theta, X, y)\n",
    "    "
   ]
  },
  {
   "cell_type": "code",
   "execution_count": 6,
   "metadata": {},
   "outputs": [],
   "source": [
    "m,n = X.shape\n",
    "X = np.append([[1 for _ in range(0,m)]], X.T,0).T\n",
    "\n",
    "initial_theta = np.zeros(n+1)\n",
    "cost, grad = costFunction(initial_theta, X, y)\n"
   ]
  },
  {
   "cell_type": "code",
   "execution_count": 7,
   "metadata": {},
   "outputs": [
    {
     "name": "stdout",
     "output_type": "stream",
     "text": [
      "Cost at initial theta (zeros):  [0.69314718]\n",
      "Expected cost (approx): 0.693\n",
      "Gradient at initial theta (zeros):\n",
      " [ -0.1        -12.00921659 -11.26284221]\n",
      "Expected gradients (approx):\n",
      " -0.1000\n",
      " -12.0092\n",
      " -11.2628\n",
      "\n"
     ]
    }
   ],
   "source": [
    "# Compute and display initial cost and gradient\n",
    "print('Cost at initial theta (zeros): ', cost)\n",
    "print('Expected cost (approx): 0.693')\n",
    "print('Gradient at initial theta (zeros):\\n',grad)\n",
    "print('Expected gradients (approx):\\n -0.1000\\n -12.0092\\n -11.2628\\n')"
   ]
  },
  {
   "cell_type": "code",
   "execution_count": 8,
   "metadata": {},
   "outputs": [
    {
     "name": "stdout",
     "output_type": "stream",
     "text": [
      "\n",
      "Cost at test theta: \n",
      " [0.21833019]\n",
      "Expected cost (approx): 0.218\n",
      "\n",
      "Gradient at test theta:\n",
      " [0.04290299 2.56623412 2.64679737]\n",
      "\n",
      "Expected gradients (approx):\n",
      " 0.043\n",
      " 2.566\n",
      " 2.647\n",
      "\n"
     ]
    }
   ],
   "source": [
    "# Compute and display cost and gradient with non-zero theta\n",
    "test_theta = np.array([-24.0, 0.2, 0.2])\n",
    "[cost, grad] = costFunction(test_theta, X, y)\n",
    "print('\\nCost at test theta: \\n', cost)\n",
    "print('Expected cost (approx): 0.218\\n')\n",
    "print('Gradient at test theta:')\n",
    "print('', grad)\n",
    "print('\\nExpected gradients (approx):\\n 0.043\\n 2.566\\n 2.647\\n')"
   ]
  },
  {
   "cell_type": "markdown",
   "metadata": {},
   "source": [
    "# Part 3: Optimizing using fminunc"
   ]
  },
  {
   "cell_type": "code",
   "execution_count": 9,
   "metadata": {},
   "outputs": [],
   "source": [
    "\"\"\"\n",
    "calculo del costo y gradiente\n",
    "\"\"\"\n",
    "def costFunction(theta, X, y):\n",
    "    m, n = y.shape\n",
    "    t = 1/m\n",
    "    J = t*suma(X, y, theta)\n",
    "    \n",
    "    return J\n",
    "\n",
    "def gradiente(theta, X, y):\n",
    "    m, n = y.shape\n",
    "    T = np.zeros(m)\n",
    "    t = 1/m\n",
    "    grad = np.zeros(len(theta))\n",
    "    \n",
    "    for i in range(m):\n",
    "        T[i] = sigmoid(np.sum(theta*X[i]))\n",
    "    V = np.vstack(T) - y\n",
    "    grad = t*((X*V).sum(axis=0))\n",
    "    \n",
    "    return grad"
   ]
  },
  {
   "cell_type": "code",
   "execution_count": 10,
   "metadata": {},
   "outputs": [
    {
     "name": "stdout",
     "output_type": "stream",
     "text": [
      "Cost at theta found by fminunc: 0.20349770158947408\n",
      "\n",
      "Expected cost (approx): 0.203\n",
      "\n",
      "theta: \n",
      "\n",
      "------ [-25.16131873   0.20623159   0.20147149] \n",
      "\n",
      "Expected theta (approx):\n",
      "\n",
      " -25.161\n",
      " 0.206\n",
      " 0.201\n",
      "\n"
     ]
    }
   ],
   "source": [
    "initial_theta = np.zeros(n+1)\n",
    "\n",
    "Result = op.minimize(fun = costFunction, \n",
    "                     x0 = initial_theta,\n",
    "                     args = (X, y),\n",
    "                     method = 'TNC', \n",
    "                     jac = gradiente)\n",
    "            \n",
    "optimal_theta = Result.x\n",
    "cost = Result.fun[0]\n",
    "\n",
    "# Print theta to screen\n",
    "print('Cost at theta found by fminunc: {}\\n'.format(cost))\n",
    "print('Expected cost (approx): 0.203\\n')\n",
    "print('theta: \\n')\n",
    "print('------ {} \\n'.format(optimal_theta))\n",
    "print('Expected theta (approx):\\n')\n",
    "print(' -25.161\\n 0.206\\n 0.201\\n')"
   ]
  },
  {
   "cell_type": "code",
   "execution_count": 11,
   "metadata": {},
   "outputs": [
    {
     "data": {
      "image/png": "[encoded data removed]",
      "text/plain": [
       "<Figure size 576x576 with 1 Axes>"
      ]
     },
     "metadata": {},
     "output_type": "display_data"
    }
   ],
   "source": [
    "plotDecisionBoundary(optimal_theta, X, y)"
   ]
  },
  {
   "cell_type": "markdown",
   "metadata": {},
   "source": [
    "# Part 4: Predict and Accuracies "
   ]
  },
  {
   "cell_type": "code",
   "execution_count": 12,
   "metadata": {},
   "outputs": [],
   "source": [
    "def predict(theta, X):\n",
    "    u = []\n",
    "    i = 0\n",
    "    for i in range(m):\n",
    "        x = np.vstack(X[i]).T\n",
    "        z = (x*theta.T).sum(axis=1)\n",
    "        v = round(sigmoid(z))\n",
    "        u.append(v)\n",
    "    return u\n"
   ]
  },
  {
   "cell_type": "code",
   "execution_count": 13,
   "metadata": {},
   "outputs": [
    {
     "name": "stdout",
     "output_type": "stream",
     "text": [
      "For a student with scores 45 and 85, we predict an admission,probability of:  0.7762878133064746\n",
      "Expected value: 0.775 +/- 0.002\n",
      "\n",
      "\n"
     ]
    }
   ],
   "source": [
    "theta = np.vstack([-25.161272, 0.206233, 0.201470])\n",
    "x = np.vstack([1.0, 45.0, 85.0])\n",
    "z = (x*theta).sum(axis=0)\n",
    "prob = sigmoid(z)\n",
    "\n",
    "print('For a student with scores 45 and 85, we predict an admission,probability of: ', prob)\n",
    "print('Expected value: 0.775 +/- 0.002\\n\\n');"
   ]
  },
  {
   "cell_type": "code",
   "execution_count": 14,
   "metadata": {},
   "outputs": [
    {
     "name": "stdout",
     "output_type": "stream",
     "text": [
      "Train Accuracy: 0.89\n",
      "Expected accuracy (approx): 89.0\n",
      "\n",
      "\n",
      "\n"
     ]
    }
   ],
   "source": [
    "p = predict(theta, X)\n",
    "print('Train Accuracy:', accuracy_score(y, p))\n",
    "print('Expected accuracy (approx): 89.0\\n')\n",
    "print('\\n')\n",
    "\n"
   ]
  },
  {
   "cell_type": "markdown",
   "metadata": {},
   "source": [
    "#  Exercise 2: Logistic Regression"
   ]
  },
  {
   "cell_type": "markdown",
   "metadata": {},
   "source": [
    "# Part 1: Regularized Logistic Regression"
   ]
  },
  {
   "cell_type": "code",
   "execution_count": 15,
   "metadata": {},
   "outputs": [],
   "source": [
    "data = pd.read_csv('ex2data2.txt', sep=',',\n",
    "                   skiprows=0, header=None).values\n",
    "\n",
    "X = data[:,[0, 1]]\n",
    "y = data[:,[2]]\n"
   ]
  },
  {
   "cell_type": "code",
   "execution_count": 16,
   "metadata": {},
   "outputs": [
    {
     "data": {
      "image/png": "[encoded data removed]",
      "text/plain": [
       "<Figure size 576x576 with 1 Axes>"
      ]
     },
     "metadata": {},
     "output_type": "display_data"
    }
   ],
   "source": [
    "plt.figure(figsize=(8,8))\n",
    "Ploteo(X,y)\n",
    "plt.show()"
   ]
  },
  {
   "cell_type": "code",
   "execution_count": 17,
   "metadata": {},
   "outputs": [],
   "source": [
    "#X[:,0]---> 0 indice de la columna en a matriz\n"
   ]
  },
  {
   "cell_type": "code",
   "execution_count": 28,
   "metadata": {},
   "outputs": [],
   "source": [
    "def mapFeature(X1, X2):\n",
    "    degree = 6\n",
    "    out = np.ones((X1.shape[0],28))\n",
    "    num_column = 1\n",
    "\n",
    "    for i in range(1, degree+1):\n",
    "        for j in range(i+1):\n",
    "            out[:,num_column] = np.power(X1,i-j) * np.power(X2,j)\n",
    "            num_column += 1\n",
    "    return out\n",
    "\n"
   ]
  },
  {
   "cell_type": "code",
   "execution_count": 29,
   "metadata": {},
   "outputs": [],
   "source": [
    "def sigmoid(z):\n",
    "    g = 1.0/ (1.0 + np.exp(-z))\n",
    "    return g\n",
    "\n",
    "        \n",
    "    \n",
    "def gradFunctionReg(theta, X, y, lamb):\n",
    "\n",
    "    m = len(y)\n",
    "    t = 1.0/m\n",
    "    \n",
    "    h = np.dot(X,theta)+1\n",
    "    h = sigmoid(h)\n",
    "    \n",
    "    \n",
    "    grad = t*np.dot(X.T, (h - y)) + (1.0*lamb/m)*theta\n",
    "    grad[0] = t*np.dot(X[:,0].T, (h - y))\n",
    "    ####print(grad)\n",
    "    \n",
    "    \n",
    "    return grad\n",
    "\n",
    "\n",
    "\n",
    "def costFunctionReg(theta, X, y, lamb):\n",
    "    \n",
    "    m = len(y)\n",
    "    \n",
    "    t = (1.0/m)\n",
    "    u = lamb/(2*m)\n",
    "    \n",
    "    ##########################################\n",
    "    ## calculo del costo con regularizacion ##\n",
    "    \n",
    "    h = np.dot(X, theta)\n",
    "    h = sigmoid(h)\n",
    "   \n",
    "    #g = X @ theta\n",
    "    #print(h,g)\n",
    "    \n",
    "    \n",
    "    J = -t * (y.T @ np.log(h) + (1 - y.T) @ np.log(1 - h))\n",
    "    reg = (lamb/(2*m)) * (theta[1:].T @ theta[1:])\n",
    "    J = J + reg\n",
    "    \n",
    "    #J = (t*np.sum(-y*np.log(h) - ((1 - y)*np.log(1 - h)))) + u*np.sum(np.dot(theta.T, theta))\n",
    "    \n",
    "    \n",
    "    grad = t*np.dot(X.T, (h - y)) + (1.0*lamb/m)*theta\n",
    "    grad[0] = t*np.dot(X[:,0].T, (h - y))\n",
    "    \n",
    "    return J, grad\n",
    "\n",
    " \n"
   ]
  },
  {
   "cell_type": "code",
   "execution_count": 30,
   "metadata": {},
   "outputs": [],
   "source": [
    "X = mapFeature(data[:,0], data[:,1])"
   ]
  },
  {
   "cell_type": "code",
   "execution_count": 31,
   "metadata": {},
   "outputs": [
    {
     "name": "stdout",
     "output_type": "stream",
     "text": [
      "Cost at initial theta (zeros): \n",
      " [[0.69314718]]\n",
      "Expected cost (approx): 0.693\n",
      "\n",
      "Gradient at initial theta (zeros) - first five values only:\n",
      "\n",
      ": \n",
      " [[8.47457627e-03]\n",
      " [1.87880932e-02]\n",
      " [7.77711864e-05]\n",
      " [5.03446395e-02]\n",
      " [1.15013308e-02]]\n",
      "Expected gradients (approx) - first five values only:\n",
      "\n",
      " 0.0085\n",
      " 0.0188\n",
      " 0.0001\n",
      " 0.0503\n",
      " 0.0115\n",
      "\n"
     ]
    }
   ],
   "source": [
    "# Compute and display initial cost and gradient for regularized logistic\n",
    "# regression\n",
    "\n",
    "m, n = X.shape\n",
    "initital_theta = np.zeros((n, 1))\n",
    "lamb = 1\n",
    "\n",
    "cost,grad = costFunctionReg(initital_theta, X, y, lamb)\n",
    "#grad = gradFunctionReg(initital_theta, X, y, lamb)\n",
    "\n",
    "print('Cost at initial theta (zeros): \\n', cost)\n",
    "print('Expected cost (approx): 0.693\\n')\n",
    "print('Gradient at initial theta (zeros) - first five values only:\\n')\n",
    "print(': \\n', grad[:5])\n",
    "print('Expected gradients (approx) - first five values only:\\n')\n",
    "print(' 0.0085\\n 0.0188\\n 0.0001\\n 0.0503\\n 0.0115\\n')"
   ]
  },
  {
   "cell_type": "code",
   "execution_count": 32,
   "metadata": {},
   "outputs": [
    {
     "name": "stdout",
     "output_type": "stream",
     "text": [
      "\n",
      "Cost at test theta (with lambda = 10): \n",
      " [[3.16450933]]\n",
      "Expected cost (approx): 3.16\n",
      "\n",
      "Gradient at test theta - first five values only:\n",
      "\n",
      "-->:  [[0.34604507]\n",
      " [0.16135192]\n",
      " [0.19479576]\n",
      " [0.22686278]\n",
      " [0.09218568]]\n",
      "Expected gradients (approx) - first five values only:\n",
      "\n",
      " 0.3460\n",
      " 0.1614\n",
      " 0.1948\n",
      " 0.2269\n",
      " 0.0922\n",
      "\n"
     ]
    }
   ],
   "source": [
    "# Compute and display cost and gradient\n",
    "# with all-ones theta and lambda = 10\n",
    "test_theta = np.ones((n,1))\n",
    "\n",
    "cost,grad = costFunctionReg(test_theta, X, y, 10)\n",
    "###grad = gradFunctionReg(test_theta, X, y, 10)\n",
    "print('\\nCost at test theta (with lambda = 10): \\n', cost)\n",
    "print('Expected cost (approx): 3.16\\n')\n",
    "print('Gradient at test theta - first five values only:\\n')\n",
    "print('-->: ', grad[0:5])\n",
    "print('Expected gradients (approx) - first five values only:\\n')\n",
    "print(' 0.3460\\n 0.1614\\n 0.1948\\n 0.2269\\n 0.0922\\n')"
   ]
  },
  {
   "cell_type": "code",
   "execution_count": 33,
   "metadata": {},
   "outputs": [
    {
     "name": "stdout",
     "output_type": "stream",
     "text": [
      "[ 1.27273509  0.62525435  1.18108521 -2.01994882 -0.91742556 -1.43167368\n",
      "  0.12399628 -0.36552234 -0.35723208 -0.17514253 -1.4581339  -0.05098852\n",
      " -0.61553085 -0.27470069 -1.19280263 -0.24220871 -0.20601057 -0.04472766\n",
      " -0.2777735  -0.29536755 -0.45637086 -1.04318579  0.02776829 -0.29241701\n",
      "  0.01556523 -0.32737793 -0.14388044 -0.92463148]\n"
     ]
    }
   ],
   "source": [
    "theta = np.ones((n,1))\n",
    "lamb = 1\n",
    "\n",
    "output = op.fmin_tnc(func = costFunctionReg,\n",
    "                      x0 = theta.flatten(),\n",
    "                      args = (X, y.flatten(),\n",
    "                              lamb))\n",
    "theta = output[0]\n",
    "print(theta) # theta contains the optimized values"
   ]
  },
  {
   "cell_type": "markdown",
   "metadata": {},
   "source": [
    "# Part 2: Regularization and Accuracies"
   ]
  },
  {
   "cell_type": "code",
   "execution_count": 24,
   "metadata": {},
   "outputs": [],
   "source": [
    "\n",
    "from scipy import optimize\n",
    "import matplotlib.pyplot as plt\n",
    "import warnings\n",
    "warnings.filterwarnings('ignore')"
   ]
  },
  {
   "cell_type": "code",
   "execution_count": 25,
   "metadata": {},
   "outputs": [
    {
     "data": {
      "image/png": "[encoded data removed]",
      "text/plain": [
       "<Figure size 576x576 with 1 Axes>"
      ]
     },
     "metadata": {},
     "output_type": "display_data"
    }
   ],
   "source": [
    "plotDecisionBoundary(theta, X, y)"
   ]
  },
  {
   "cell_type": "code",
   "execution_count": 26,
   "metadata": {},
   "outputs": [],
   "source": [
    "def predict(theta, X):\n",
    "    p = np.round(sigmoid(np.dot(X,theta)))\n",
    "    return p\n",
    "    "
   ]
  },
  {
   "cell_type": "code",
   "execution_count": 27,
   "metadata": {},
   "outputs": [
    {
     "name": "stdout",
     "output_type": "stream",
     "text": [
      "Train Accuracy: 0.8305084745762712\n",
      "\n",
      "Expected accuracy (with lambda = 1): 83.1 (approx)\n",
      "\n"
     ]
    }
   ],
   "source": [
    "# Compute accuracy on our training set\n",
    "p = predict(theta, X)\n",
    "acc = accuracy_score(y, p)\n",
    "print('Train Accuracy: {}\\n'.format(acc))\n",
    "print('Expected accuracy (with lambda = 1): 83.1 (approx)\\n')\n",
    "\n"
   ]
  },
  {
   "cell_type": "code",
   "execution_count": null,
   "metadata": {},
   "outputs": [],
   "source": []
  }
 ],
 "metadata": {
  "kernelspec": {
   "display_name": "Python 3",
   "language": "python",
   "name": "python3"
  },
  "language_info": {
   "codemirror_mode": {
    "name": "ipython",
    "version": 3
   },
   "file_extension": ".py",
   "mimetype": "text/x-python",
   "name": "python",
   "nbconvert_exporter": "python",
   "pygments_lexer": "ipython3",
   "version": "3.7.0"
  }
 },
 "nbformat": 4,
 "nbformat_minor": 2
}
